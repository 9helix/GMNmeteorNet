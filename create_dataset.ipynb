{
 "cells": [
  {
   "cell_type": "code",
   "execution_count": 1,
   "metadata": {},
   "outputs": [],
   "source": [
    "import os\n",
    "import numpy as np\n",
    "import matplotlib.pyplot as plt\n",
    "import statistics\n",
    "from PIL import Image\n",
    "import tensorflow as tf\n",
    "from keras import layers"
   ]
  },
  {
   "cell_type": "code",
   "execution_count": 8,
   "metadata": {},
   "outputs": [
    {
     "name": "stdout",
     "output_type": "stream",
     "text": [
      "Number of images: 1297\n",
      "Mean: 95.54356206630686\n",
      "Geometric mean: 86.10314609508686\n",
      "Median: 78.0\n",
      "Min: 48\n",
      "Max: 751\n"
     ]
    },
    {
     "data": {
      "image/png": "[encoded data removed]",
      "text/plain": [
       "<Figure size 640x480 with 1 Axes>"
      ]
     },
     "metadata": {},
     "output_type": "display_data"
    }
   ],
   "source": [
    "dataset = \"../mldataset/cropped\"\n",
    "dirs = [os.path.join(dataset, \"Meteors\"),\n",
    "        os.path.join(dataset, \"Artifacts\")]\n",
    "dimensions = []\n",
    "\n",
    "for i in dirs:\n",
    "    for j in os.listdir(i):\n",
    "\n",
    "        imgs = os.path.join(i, j, \"images\")\n",
    "        if not os.path.exists(imgs):\n",
    "            continue\n",
    "        for img in os.listdir(imgs):\n",
    "\n",
    "            img = os.path.join(imgs, img)\n",
    "\n",
    "            img = Image.open(img)\n",
    "            img_array = np.array(img)\n",
    "            dimensions.append(img_array.shape[0])\n",
    "            img_array = np.expand_dims(img_array, axis=-1)\n",
    "\n",
    "print(\"Number of images:\", len(dimensions))\n",
    "print(\"Mean:\", np.mean(dimensions))\n",
    "print(\"Geometric mean:\", statistics.geometric_mean(dimensions))\n",
    "print(\"Median:\", np.median(dimensions))\n",
    "print(\"Min:\", np.min(dimensions))\n",
    "print(\"Max:\", np.max(dimensions))\n",
    "\n",
    "plt.hist(dimensions, bins=\"auto\")\n",
    "\n",
    "plt.xlabel(\"First Dimension\")\n",
    "plt.ylabel(\"Count\")\n",
    "plt.title(\"Histogram of Image Dimensions\")\n",
    "plt.show()"
   ]
  },
  {
   "cell_type": "code",
   "execution_count": 9,
   "metadata": {},
   "outputs": [
    {
     "name": "stdout",
     "output_type": "stream",
     "text": [
      "Number of meteor images: 885\n",
      "Number of artifact images: 412\n"
     ]
    }
   ],
   "source": [
    "confirmed_num = 0\n",
    "for subfolder in os.listdir(dirs[0]):\n",
    "    imgs = os.path.join(dirs[0], subfolder, \"images\")\n",
    "    confirmed_num += len(os.listdir(imgs))\n",
    "print(\"Number of meteor images:\", confirmed_num)\n",
    "\n",
    "rejected_images = []\n",
    "rejected_num = 0\n",
    "for subfolder in os.listdir(dirs[1]):\n",
    "    if not os.path.exists(os.path.join(dirs[1], subfolder, \"images\")):\n",
    "        continue\n",
    "    imgs = os.path.join(dirs[1], subfolder, \"images\")\n",
    "    rejected_images += [os.path.join(imgs, filename)\n",
    "                        for filename in os.listdir(imgs)]\n",
    "    rejected_num += len(os.listdir(imgs))\n",
    "print(\"Number of artifact images:\", rejected_num)"
   ]
  },
  {
   "cell_type": "code",
   "execution_count": null,
   "metadata": {},
   "outputs": [],
   "source": [
    "data_augmentation = tf.keras.Sequential(\n",
    "    [\n",
    "        layers.RandomFlip(\"horizontal_and_vertical\"),\n",
    "        layers.RandomRotation(0.2),\n",
    "    ]\n",
    ")\n",
    "\n",
    "# balance classes by using data augmentation\n",
    "while rejected_num < confirmed_num:\n",
    "    random_image = tf.random.shuffle(rejected_images)[0]\n",
    "    random_image_path = random_image.numpy().decode(\"utf-8\")\n",
    "    img = Image.open(random_image_path)\n",
    "    img_array = np.array(img)\n",
    "    img_array = np.expand_dims(img_array, axis=-1)\n",
    "\n",
    "    img_array = data_augmentation(img_array)\n",
    "\n",
    "    augmented_img = Image.fromarray(np.squeeze(img_array).astype(np.uint8))\n",
    "    os.makedirs(os.path.join(dirs[1], \"synthesized\", \"images\"), exist_ok=True)\n",
    "    # Save the image\n",
    "    base_filename = os.path.basename(random_image_path)[:-4] + \"_augmented\"\n",
    "    full_path = os.path.join(\n",
    "        dirs[1], \"synthesized\", \"images\", base_filename + \".png\")\n",
    "    i = 1\n",
    "\n",
    "    # Loop until we find a filename that does not already exist\n",
    "    while os.path.exists(full_path):\n",
    "        # If a file with the same name already exists, append the counter to the filename\n",
    "        full_path = os.path.join(\n",
    "            dirs[1], \"synthesized\", \"images\", base_filename +\n",
    "            \"_\" + str(i) + \".png\"\n",
    "        )\n",
    "        # Increment the counter\n",
    "        i += 1\n",
    "    augmented_img.save(full_path)\n",
    "    rejected_num += 1\n",
    "print(\"Classes balanced.\")\n",
    "print(\"Number of confirmed images:\", confirmed_num)\n",
    "print(\"Number of rejected images:\", rejected_num)"
   ]
  },
  {
   "cell_type": "code",
   "execution_count": null,
   "metadata": {},
   "outputs": [],
   "source": [
    "IMG_SIZE = int(np.median(dimensions))  # seems about right\n",
    "BATCH_SIZE = 32\n",
    "train_ds, val_ds = tf.keras.utils.image_dataset_from_directory(\n",
    "    dataset,\n",
    "    label_mode=\"binary\",\n",
    "    color_mode=\"grayscale\",\n",
    "    batch_size=BATCH_SIZE,\n",
    "    validation_split=0.3,\n",
    "    subset=\"both\",\n",
    "    seed=123,\n",
    "    image_size=(IMG_SIZE, IMG_SIZE),\n",
    "    crop_to_aspect_ratio=True, # tinker with this\n",
    ")"
   ]
  },
  {
   "cell_type": "code",
   "execution_count": 31,
   "metadata": {},
   "outputs": [
    {
     "name": "stdout",
     "output_type": "stream",
     "text": [
      "Artifacts\n",
      "Meteors\n",
      "b'..\\\\mldataset\\\\cropped\\\\Artifacts\\\\BE0004_20221123_162203_319970_detected'\n",
      "b'..\\\\mldataset\\\\cropped\\\\Meteors\\\\FR000X_20230513_195407_211244_detected'\n"
     ]
    }
   ],
   "source": [
    "import pathlib\n",
    "path='../mldataset'\n",
    "data_dir = pathlib.Path(path)\n",
    "for item in data_dir.glob(\"cropped/*\"):\n",
    "  print(item.name)\n",
    "list_ds = tf.data.Dataset.list_files(str(data_dir/'*/*/*'))\n",
    "for f in list_ds.take(2):\n",
    "  print(f.numpy())"
   ]
  }
 ],
 "metadata": {
  "kernelspec": {
   "display_name": "tf",
   "language": "python",
   "name": "python3"
  },
  "language_info": {
   "codemirror_mode": {
    "name": "ipython",
    "version": 3
   },
   "file_extension": ".py",
   "mimetype": "text/x-python",
   "name": "python",
   "nbconvert_exporter": "python",
   "pygments_lexer": "ipython3",
   "version": "3.10.14"
  }
 },
 "nbformat": 4,
 "nbformat_minor": 2
}
