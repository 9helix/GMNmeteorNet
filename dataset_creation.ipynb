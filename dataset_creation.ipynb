{
 "cells": [
  {
   "cell_type": "code",
   "execution_count": 1,
   "metadata": {},
   "outputs": [
    {
     "name": "stdout",
     "output_type": "stream",
     "text": [
      "2.14.0\n"
     ]
    }
   ],
   "source": [
    "import os\n",
    "os.environ['TF_CPP_MIN_LOG_LEVEL'] = '3'\n",
    "import matplotlib.pyplot as plt\n",
    "from PIL import Image\n",
    "import numpy as np\n",
    "import tensorflow as tf\n",
    "from keras import models\n",
    "from keras import layers\n",
    "import statistics\n",
    "%matplotlib inline\n",
    "\n",
    "\n",
    "print(tf.__version__)"
   ]
  },
  {
   "cell_type": "markdown",
   "metadata": {},
   "source": [
    "## Image analysis"
   ]
  },
  {
   "cell_type": "code",
   "execution_count": 2,
   "metadata": {},
   "outputs": [
    {
     "name": "stdout",
     "output_type": "stream",
     "text": [
      "Number of images: 1644\n",
      "Mean: 104.99878345498783\n",
      "Geometric mean: 91.36642048787509\n",
      "Median: 81.0\n",
      "Min: 48\n",
      "Max: 711\n",
      "Last non-outlier dimension: 193\n"
     ]
    },
    {
     "data": {
      "image/png": "[encoded data removed]",
      "text/plain": [
       "<Figure size 640x480 with 1 Axes>"
      ]
     },
     "metadata": {},
     "output_type": "display_data"
    }
   ],
   "source": [
    "dataset = \"../mldataset/cropped\"\n",
    "dirs = [os.path.join(dataset, \"Meteors\"), os.path.join(dataset, \"Artifacts\")]\n",
    "dimensions = []\n",
    "\n",
    "for i in dirs:\n",
    "    for j in os.listdir(i):\n",
    "\n",
    "        img = os.path.join(i, j)\n",
    "\n",
    "        if \"synthesized\" in img:\n",
    "\n",
    "            for synth in os.listdir(img):\n",
    "                img3 = os.path.join(img, synth)\n",
    "\n",
    "                img2 = Image.open(img3)\n",
    "                img_array = np.array(img2)\n",
    "                dimensions.append(img_array.shape[0])\n",
    "                img_array = np.expand_dims(img_array, axis=-1)\n",
    "        else:\n",
    "            img = Image.open(img)\n",
    "            img_array = np.array(img)\n",
    "            dimensions.append(img_array.shape[0])\n",
    "            img_array = np.expand_dims(img_array, axis=-1)\n",
    "\n",
    "print(\"Number of images:\", len(dimensions))\n",
    "print(\"Mean:\", np.mean(dimensions))\n",
    "print(\"Geometric mean:\", statistics.geometric_mean(dimensions))\n",
    "print(\"Median:\", np.median(dimensions))\n",
    "print(\"Min:\", np.min(dimensions))\n",
    "print(\"Max:\", np.max(dimensions))\n",
    "\n",
    "q1 = np.percentile(dimensions, 25)\n",
    "q3 = np.percentile(dimensions, 75)\n",
    "iqr = q3 - q1\n",
    "threshold = 1.5 * iqr\n",
    "dimensions = np.sort(np.array(dimensions))\n",
    "first_outlier = np.where((dimensions < q1 - threshold) | (dimensions > q3 + threshold))[0]\n",
    "print(\"Last non-outlier dimension:\", dimensions[first_outlier[0] - 1])\n",
    "\n",
    "\n",
    "plt.hist(dimensions, bins=\"auto\")\n",
    "\n",
    "plt.xlabel(\"First Dimension\")\n",
    "plt.ylabel(\"Count\")\n",
    "plt.title(\"Histogram of Image Dimensions\")\n",
    "plt.show()"
   ]
  },
  {
   "cell_type": "code",
   "execution_count": 3,
   "metadata": {},
   "outputs": [
    {
     "name": "stdout",
     "output_type": "stream",
     "text": [
      "Number of meteor images: 822\n",
      "Number of artifact images: 822\n"
     ]
    }
   ],
   "source": [
    "confirmed_num = 0\n",
    "\n",
    "confirmed_num += len(os.listdir(dirs[0]))\n",
    "print(\"Number of meteor images:\", confirmed_num)\n",
    "\n",
    "rejected_images = []\n",
    "rejected_num = 0\n",
    "\n",
    "for filename in os.listdir(dirs[1]):\n",
    "    if \"synthesized\" in filename:\n",
    "        rejected_images += [\n",
    "            os.path.join(dirs[1], filename, synth)\n",
    "            for synth in os.listdir(os.path.join(dirs[1], filename))\n",
    "        ]\n",
    "    else:\n",
    "        rejected_images.append(os.path.join(dirs[1], filename))\n",
    "\n",
    "rejected_num = len(rejected_images)\n",
    "print(\"Number of artifact images:\", rejected_num)"
   ]
  },
  {
   "cell_type": "markdown",
   "metadata": {},
   "source": [
    "## Class balancing using image augmentation\n"
   ]
  },
  {
   "cell_type": "code",
   "execution_count": 4,
   "metadata": {},
   "outputs": [
    {
     "name": "stdout",
     "output_type": "stream",
     "text": [
      "Classes balanced.\n",
      "Number of meteor images: 822\n",
      "Number of artifact images: 822\n"
     ]
    }
   ],
   "source": [
    "data_augmentation = tf.keras.Sequential(\n",
    "    [\n",
    "        # TODO: Modify data augmentation layers\n",
    "        layers.RandomFlip(\"horizontal_and_vertical\"),\n",
    "        layers.RandomRotation(0.2),\n",
    "        layers.RandomContrast(0.2),\n",
    "        layers.RandomTranslation(0.2, 0.2),\n",
    "        layers.RandomZoom(0.2, 0.2),\n",
    "    ]\n",
    ")\n",
    "\n",
    "# balance classes by using data augmentation\n",
    "while rejected_num < confirmed_num:\n",
    "    random_image = tf.random.shuffle(rejected_images)[0]\n",
    "    random_image_path = random_image.numpy().decode(\"utf-8\")\n",
    "    if \"synthesized\" in random_image_path:\n",
    "        continue\n",
    "    img = Image.open(random_image_path)\n",
    "    img_array = np.array(img)\n",
    "    img_array = np.expand_dims(img_array, axis=-1)\n",
    "\n",
    "    img_array = data_augmentation(img_array)\n",
    "\n",
    "    augmented_img = Image.fromarray(np.squeeze(img_array).astype(np.uint8))\n",
    "    os.makedirs(os.path.join(dirs[1], \"synthesized\"), exist_ok=True)\n",
    "    # Save the image\n",
    "    base_filename = os.path.basename(random_image_path)[:-4] + \"_augmented\"\n",
    "    full_path = os.path.join(dirs[1], \"synthesized\", base_filename + \".png\")\n",
    "    i = 1\n",
    "\n",
    "    # Loop until we find a filename that does not already exist\n",
    "    while os.path.exists(full_path):\n",
    "        # If a file with the same name already exists, append the counter to the filename\n",
    "        full_path = os.path.join(\n",
    "            dirs[1], \"synthesized\", base_filename + \"_\" + str(i) + \".png\"\n",
    "        )\n",
    "        # Increment the counter\n",
    "        i += 1\n",
    "    augmented_img.save(full_path)\n",
    "    rejected_num += 1\n",
    "print(\"Classes balanced.\")\n",
    "print(\"Number of meteor images:\", confirmed_num)\n",
    "print(\"Number of artifact images:\", rejected_num)"
   ]
  },
  {
   "cell_type": "markdown",
   "metadata": {},
   "source": [
    "## Dataset creation\n"
   ]
  },
  {
   "cell_type": "code",
   "execution_count": 5,
   "metadata": {},
   "outputs": [
    {
     "name": "stdout",
     "output_type": "stream",
     "text": [
      "Found 1644 files belonging to 2 classes.\n",
      "Using 1151 files for training.\n",
      "Using 493 files for validation.\n"
     ]
    }
   ],
   "source": [
    "IMG_SIZE = int(np.median(dimensions))  # seems about right\n",
    "# IMG_SIZE = first_outlier\n",
    "BATCH_SIZE = 32\n",
    "\n",
    "train_ds, val_ds = tf.keras.utils.image_dataset_from_directory(\n",
    "    dataset,\n",
    "    label_mode=\"binary\",\n",
    "    color_mode=\"grayscale\",\n",
    "    batch_size=BATCH_SIZE,\n",
    "    validation_split=0.3,\n",
    "    subset=\"both\",\n",
    "    seed=123,\n",
    "    image_size=(IMG_SIZE, IMG_SIZE),\n",
    ")\n",
    "\n",
    "class_names = train_ds.class_names"
   ]
  },
  {
   "cell_type": "markdown",
   "metadata": {},
   "source": [
    "### Dataset normalization\n"
   ]
  },
  {
   "cell_type": "code",
   "execution_count": 6,
   "metadata": {},
   "outputs": [],
   "source": [
    "def standardize_image(image, label):\n",
    "    \"\"\"\n",
    "    Linearly scales each image in image to have mean 0 and variance 1.\n",
    "    \"\"\"\n",
    "    image = rescale(image)\n",
    "    image = tf.image.per_image_standardization(image)\n",
    "\n",
    "    return image, label\n",
    "\n",
    "\n",
    "AUTOTUNE = tf.data.AUTOTUNE\n",
    "\n",
    "rescale = layers.Rescaling(1.0 / 255)\n",
    "\n",
    "# standardize each image to have mean 0 and variance 1\n",
    "train_ds = train_ds.map(standardize_image, num_parallel_calls=AUTOTUNE)\n",
    "val_ds = val_ds.map(standardize_image, num_parallel_calls=AUTOTUNE)\n",
    "\n",
    "dataset_name=\"20240412_1\"\n",
    "train_ds.save(f\"datasets/{dataset_name}_train\")\n",
    "val_ds.save(f\"datasets/{dataset_name}_val\")\n"
   ]
  },
  {
   "cell_type": "markdown",
   "metadata": {},
   "source": [
    "## Model creation\n"
   ]
  },
  {
   "cell_type": "code",
   "execution_count": 7,
   "metadata": {},
   "outputs": [
    {
     "name": "stdout",
     "output_type": "stream",
     "text": [
      "Model: \"CNN_20240412_1\"\n",
      "_________________________________________________________________\n",
      " Layer (type)                Output Shape              Param #   \n",
      "=================================================================\n",
      " conv2d (Conv2D)             (32, 77, 77, 8)           208       \n",
      "                                                                 \n",
      " max_pooling2d (MaxPooling2  (32, 15, 15, 8)           0         \n",
      " D)                                                              \n",
      "                                                                 \n",
      " flatten (Flatten)           (32, 1800)                0         \n",
      "                                                                 \n",
      " dense (Dense)               (32, 16)                  28816     \n",
      "                                                                 \n",
      " dense_1 (Dense)             (32, 1)                   17        \n",
      "                                                                 \n",
      "=================================================================\n",
      "Total params: 29041 (113.44 KB)\n",
      "Trainable params: 29041 (113.44 KB)\n",
      "Non-trainable params: 0 (0.00 Byte)\n",
      "_________________________________________________________________\n"
     ]
    }
   ],
   "source": [
    "# model from https://github.com/fiachraf/meteorml/blob/main/keras/training_scripts/CNN_script_20220325_1.py#L133\n",
    "\n",
    "model = models.Sequential()\n",
    "model_name= \"CNN_20240412_1\"\n",
    "model._name = model_name\n",
    "\n",
    "# added by me, so that these normalization steps arent done before the model\n",
    "# model.add(layers.Resizing(IMG_SIZE, IMG_SIZE))\n",
    "# model.add(layers.Rescaling(1.0 / 255))\n",
    "\n",
    "model.add(layers.Conv2D(8, (5, 5), activation=\"relu\"))\n",
    "model.add(layers.MaxPooling2D((5, 5)))\n",
    "model.add(layers.Flatten())\n",
    "model.add(layers.Dense(16, activation=\"relu\"))\n",
    "model.add(layers.Dense(1, activation=\"sigmoid\"))\n",
    "\n",
    "model.build((BATCH_SIZE, IMG_SIZE, IMG_SIZE, 1))\n",
    "\n",
    "model.summary()\n",
    "\n",
    "json_config = model.to_json()\n",
    "with open(f'models/{model_name}_config.json', 'w') as json_file:\n",
    "    json_file.write(json_config)\n",
    "\n"
   ]
  }
 ],
 "metadata": {
  "kernelspec": {
   "display_name": "tf",
   "language": "python",
   "name": "python3"
  },
  "language_info": {
   "codemirror_mode": {
    "name": "ipython",
    "version": 3
   },
   "file_extension": ".py",
   "mimetype": "text/x-python",
   "name": "python",
   "nbconvert_exporter": "python",
   "pygments_lexer": "ipython3",
   "version": "3.10.12"
  }
 },
 "nbformat": 4,
 "nbformat_minor": 2
}
